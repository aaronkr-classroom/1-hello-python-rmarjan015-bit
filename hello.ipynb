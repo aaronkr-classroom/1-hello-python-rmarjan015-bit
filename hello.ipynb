{
 "cells": [
  {
   "cell_type": "markdown",
   "id": "ee2d36c8",
   "metadata": {},
   "source": [
    "# hello world~\n",
    "\n",
    "## this is marjan.\n",
    "\n",
    "###### ML is fun!~\n",
    "this is paragraph."
   ]
  },
  {
   "cell_type": "markdown",
   "id": "e4581803",
   "metadata": {},
   "source": []
  }
 ],
 "metadata": {
  "language_info": {
   "name": "python"
  }
 },
 "nbformat": 4,
 "nbformat_minor": 5
}
